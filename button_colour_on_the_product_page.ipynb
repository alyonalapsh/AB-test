{
 "cells": [
  {
   "cell_type": "code",
   "execution_count": 110,
   "id": "57cb9b6d",
   "metadata": {},
   "outputs": [],
   "source": [
    "import pandas as pd\n",
    "import numpy as np\n",
    "import matplotlib.pyplot as plt\n",
    "import scipy.stats as stats\n",
    "from scipy.stats import shapiro, normaltest, mannwhitneyu, chi2_contingency\n",
    "from statsmodels.stats.proportion import proportions_ztest\n",
    "\n",
    "np.random.seed(42)"
   ]
  },
  {
   "cell_type": "code",
   "execution_count": 61,
   "id": "757fc8e4",
   "metadata": {},
   "outputs": [
    {
     "data": {
      "text/html": [
       "<div>\n",
       "<style scoped>\n",
       "    .dataframe tbody tr th:only-of-type {\n",
       "        vertical-align: middle;\n",
       "    }\n",
       "\n",
       "    .dataframe tbody tr th {\n",
       "        vertical-align: top;\n",
       "    }\n",
       "\n",
       "    .dataframe thead th {\n",
       "        text-align: right;\n",
       "    }\n",
       "</style>\n",
       "<table border=\"1\" class=\"dataframe\">\n",
       "  <thead>\n",
       "    <tr style=\"text-align: right;\">\n",
       "      <th></th>\n",
       "      <th>user_id</th>\n",
       "      <th>group</th>\n",
       "      <th>button_color</th>\n",
       "      <th>page_viewed</th>\n",
       "      <th>purchase_made</th>\n",
       "      <th>order_value</th>\n",
       "      <th>test_start_date</th>\n",
       "      <th>test_end_date</th>\n",
       "    </tr>\n",
       "  </thead>\n",
       "  <tbody>\n",
       "    <tr>\n",
       "      <th>0</th>\n",
       "      <td>1</td>\n",
       "      <td>B</td>\n",
       "      <td>Синяя</td>\n",
       "      <td>1.0</td>\n",
       "      <td>1</td>\n",
       "      <td>34436</td>\n",
       "      <td>2024-06-01</td>\n",
       "      <td>2024-06-21</td>\n",
       "    </tr>\n",
       "    <tr>\n",
       "      <th>1</th>\n",
       "      <td>2</td>\n",
       "      <td>A</td>\n",
       "      <td>Красная</td>\n",
       "      <td>1.0</td>\n",
       "      <td>0</td>\n",
       "      <td>0</td>\n",
       "      <td>2024-06-01</td>\n",
       "      <td>2024-06-21</td>\n",
       "    </tr>\n",
       "    <tr>\n",
       "      <th>2</th>\n",
       "      <td>3</td>\n",
       "      <td>A</td>\n",
       "      <td>Красная</td>\n",
       "      <td>1.0</td>\n",
       "      <td>0</td>\n",
       "      <td>0</td>\n",
       "      <td>2024-06-01</td>\n",
       "      <td>2024-06-21</td>\n",
       "    </tr>\n",
       "    <tr>\n",
       "      <th>3</th>\n",
       "      <td>4</td>\n",
       "      <td>B</td>\n",
       "      <td>Синяя</td>\n",
       "      <td>1.0</td>\n",
       "      <td>1</td>\n",
       "      <td>1160</td>\n",
       "      <td>2024-06-01</td>\n",
       "      <td>2024-06-21</td>\n",
       "    </tr>\n",
       "    <tr>\n",
       "      <th>4</th>\n",
       "      <td>5</td>\n",
       "      <td>A</td>\n",
       "      <td>Красная</td>\n",
       "      <td>1.0</td>\n",
       "      <td>1</td>\n",
       "      <td>44358</td>\n",
       "      <td>2024-06-01</td>\n",
       "      <td>2024-06-21</td>\n",
       "    </tr>\n",
       "  </tbody>\n",
       "</table>\n",
       "</div>"
      ],
      "text/plain": [
       "   user_id group button_color  page_viewed  purchase_made  order_value  \\\n",
       "0        1     B        Синяя          1.0              1        34436   \n",
       "1        2     A      Красная          1.0              0            0   \n",
       "2        3     A      Красная          1.0              0            0   \n",
       "3        4     B        Синяя          1.0              1         1160   \n",
       "4        5     A      Красная          1.0              1        44358   \n",
       "\n",
       "  test_start_date test_end_date  \n",
       "0      2024-06-01    2024-06-21  \n",
       "1      2024-06-01    2024-06-21  \n",
       "2      2024-06-01    2024-06-21  \n",
       "3      2024-06-01    2024-06-21  \n",
       "4      2024-06-01    2024-06-21  "
      ]
     },
     "execution_count": 61,
     "metadata": {},
     "output_type": "execute_result"
    }
   ],
   "source": [
    "# Количество пользователей\n",
    "n = 5000\n",
    "\n",
    "# Генерируем данные\n",
    "user_id = np.arange(1, n+1)  # user_id от 1 до n\n",
    "groups = np.random.choice(['A', 'B'], size=n)  # Случайно распределяем пользователей по группам A и B\n",
    "button_colors = np.where(groups == 'A', 'Красная', 'Синяя')  # В группе A красная кнопка, в группе B синяя\n",
    "\n",
    "# Симулируем просмотр страницы товара (все пользователи видят страницу)\n",
    "page_viewed = np.ones(n)\n",
    "\n",
    "# Симулируем покупку: с вероятностью 0.55 для A и 0.50 для B\n",
    "purchase_probabilities = np.where(groups == 'A', 0.55, 0.50)\n",
    "purchase_made = np.random.binomial(1, purchase_probabilities)  # 1 - покупка, 0 - нет\n",
    "\n",
    "# Генерируем сумму заказа, если покупка была сделана (иначе 0)\n",
    "order_values = np.where(purchase_made == 1, np.random.randint(1000, 50000, size=n), 0)\n",
    "\n",
    "\n",
    "# Даты начала и окончания теста\n",
    "test_start_date = pd.to_datetime('2024-06-01')\n",
    "test_end_date = pd.to_datetime('2024-06-21')\n",
    "\n",
    "# Создаем DataFrame\n",
    "df = pd.DataFrame({\n",
    "    'user_id': user_id,\n",
    "    'group': groups,\n",
    "    'button_color': button_colors,\n",
    "    'page_viewed': page_viewed,\n",
    "    'purchase_made': purchase_made,\n",
    "    'order_value': order_values,\n",
    "    'test_start_date': test_start_date,\n",
    "    'test_end_date': test_end_date\n",
    "})\n",
    "\n",
    "# Просмотр первых 10 строк данных\n",
    "df.head()\n",
    "\n",
    "# Сохраняем данные в CSV\n",
    "# df.to_csv('ab_test_button_data.csv', index=False)"
   ]
  },
  {
   "cell_type": "markdown",
   "id": "f9cb548e",
   "metadata": {},
   "source": [
    "Постановка задачи:\n",
    "На сайте изменили цвет кнопки заказа с красной на синюю. Определить, какая кнопка оказалась эффективнее."
   ]
  },
  {
   "cell_type": "code",
   "execution_count": 127,
   "id": "b87da4cc",
   "metadata": {},
   "outputs": [],
   "source": [
    "group_A = df.query('group == \"A\"')\n",
    "group_B = df.query('group == \"B\"')"
   ]
  },
  {
   "cell_type": "code",
   "execution_count": 128,
   "id": "f0d4416c",
   "metadata": {},
   "outputs": [],
   "source": [
    "group_A_purchase = group_A.query('purchase_made == 1') # Совершенные заказы группы А\n",
    "group_B_purchase = group_B.query('purchase_made == 1') # Совершенные заказы группы В"
   ]
  },
  {
   "cell_type": "markdown",
   "id": "cc570ee1",
   "metadata": {},
   "source": [
    "Нулевая гипотеза - Новая кнопка (группа В) не влияет, или работает хуже группы А. \n",
    "\n",
    "Альтернативная гипотеза - Новая кнопка (группа В) работает лучше."
   ]
  },
  {
   "cell_type": "markdown",
   "id": "9986b341",
   "metadata": {},
   "source": [
    "# Metrics"
   ]
  },
  {
   "cell_type": "markdown",
   "id": "5ad8e619",
   "metadata": {},
   "source": [
    "## average purchase price"
   ]
  },
  {
   "cell_type": "code",
   "execution_count": 129,
   "id": "31faa76d",
   "metadata": {},
   "outputs": [],
   "source": [
    "average_a = group_A_purchase.order_value.mean()"
   ]
  },
  {
   "cell_type": "code",
   "execution_count": 130,
   "id": "fae9bb2e",
   "metadata": {},
   "outputs": [],
   "source": [
    "average_b = group_B_purchase.order_value.mean()"
   ]
  },
  {
   "cell_type": "code",
   "execution_count": 131,
   "id": "d51beca3",
   "metadata": {},
   "outputs": [
    {
     "name": "stdout",
     "output_type": "stream",
     "text": [
      "Средняя стоимость покупки группы A: 24904.23\n",
      "Средняя стоимость покупки группы B: 25237.70\n"
     ]
    }
   ],
   "source": [
    "print(f\"Средняя стоимость покупки группы A: {average_a:.2f}\")\n",
    "print(f\"Средняя стоимость покупки группы B: {average_b:.2f}\")"
   ]
  },
  {
   "cell_type": "markdown",
   "id": "2d6bf448",
   "metadata": {},
   "source": [
    "## conversion"
   ]
  },
  {
   "cell_type": "code",
   "execution_count": 102,
   "id": "7b1cd81a",
   "metadata": {},
   "outputs": [],
   "source": [
    "conversion_a = sum(group_A_purchase.purchase_made) / len(group_A)"
   ]
  },
  {
   "cell_type": "code",
   "execution_count": 104,
   "id": "a82234e4",
   "metadata": {},
   "outputs": [],
   "source": [
    "conversion_b = sum(group_B_purchase.purchase_made) / len(group_B)"
   ]
  },
  {
   "cell_type": "code",
   "execution_count": 105,
   "id": "fe24ef64",
   "metadata": {},
   "outputs": [
    {
     "name": "stdout",
     "output_type": "stream",
     "text": [
      "Конверсия группы A: 55.03%\n",
      "Конверсия группы B: 48.04%\n"
     ]
    }
   ],
   "source": [
    "print(f\"Конверсия группы A: {conversion_a * 100:.2f}%\")\n",
    "print(f\"Конверсия группы B: {conversion_b * 100:.2f}%\")"
   ]
  },
  {
   "cell_type": "code",
   "execution_count": 81,
   "id": "0e10818e",
   "metadata": {},
   "outputs": [
    {
     "data": {
      "image/png": "[encoded data removed]",
      "text/plain": [
       "<Figure size 640x480 with 1 Axes>"
      ]
     },
     "metadata": {},
     "output_type": "display_data"
    }
   ],
   "source": [
    "# Построение bar plot\n",
    "conversions = [conversion_a, conversion_b]\n",
    "labels = ['Группа A (Красная кнопка)', 'Группа B (Синяя кнопка)']\n",
    "\n",
    "plt.bar(labels, conversions, color=['red', 'blue'])\n",
    "plt.title('Конверсии по группам')\n",
    "plt.ylabel('Конверсия (%)')\n",
    "plt.show()"
   ]
  },
  {
   "cell_type": "markdown",
   "id": "3ff36edb",
   "metadata": {},
   "source": [
    "# Сheck the data for normal distribution"
   ]
  },
  {
   "cell_type": "markdown",
   "id": "833f8522",
   "metadata": {},
   "source": [
    "## draw a histogram and QQ-plot"
   ]
  },
  {
   "cell_type": "code",
   "execution_count": 89,
   "id": "e0aa81ef",
   "metadata": {},
   "outputs": [
    {
     "data": {
      "image/png": "[encoded data removed]",
      "text/plain": [
       "<Figure size 640x480 with 1 Axes>"
      ]
     },
     "metadata": {},
     "output_type": "display_data"
    }
   ],
   "source": [
    "group_a = group_A.order_value\n",
    "group_b = group_B.order_value\n",
    "\n",
    "# Гистограмма для группы A\n",
    "plt.hist(group_a, bins=30, alpha=0.7, label='Группа A (Красная кнопка)', color='red', density=True)\n",
    "\n",
    "# Гистограмма для группы B\n",
    "plt.hist(group_b, bins=30, alpha=0.7, label='Группа B (Синяя кнопка)', color='blue', density=True)\n",
    "\n",
    "\n",
    "plt.title('Гистограмма суммы заказа')\n",
    "plt.xlabel('Сумма заказа')\n",
    "plt.ylabel('Плотность')\n",
    "plt.legend()\n",
    "plt.show()"
   ]
  },
  {
   "cell_type": "code",
   "execution_count": null,
   "id": "24547ef8",
   "metadata": {},
   "outputs": [],
   "source": []
  },
  {
   "cell_type": "code",
   "execution_count": 97,
   "id": "e120b12c",
   "metadata": {},
   "outputs": [
    {
     "data": {
      "image/png": "[encoded data removed]",
      "text/plain": [
       "<Figure size 640x480 with 1 Axes>"
      ]
     },
     "metadata": {},
     "output_type": "display_data"
    }
   ],
   "source": [
    "stats.probplot(group_a, dist=\"norm\", plot=plt)\n",
    "plt.title(\"Q-Q Plot суммы заказа для группы A (Красная кнопка)\")\n",
    "plt.show()"
   ]
  },
  {
   "cell_type": "code",
   "execution_count": 98,
   "id": "8b42e24a",
   "metadata": {},
   "outputs": [
    {
     "data": {
      "image/png": "[encoded data removed]",
      "text/plain": [
       "<Figure size 640x480 with 1 Axes>"
      ]
     },
     "metadata": {},
     "output_type": "display_data"
    }
   ],
   "source": [
    "stats.probplot(group_b, dist=\"norm\", plot=plt)\n",
    "plt.title(\"Q-Q Plot суммы заказа для группы B (Синяя кнопка)\")\n",
    "plt.show()"
   ]
  },
  {
   "cell_type": "markdown",
   "id": "8e9658ae",
   "metadata": {},
   "source": [
    "Исходя из гистограммы и QQ-plot первично можно сделать вывод, что распределение в группах не соотвествует нормальному.\n",
    "На гистограмме в обоих группах видно, что график слева сильно преобладает в нуле. Это характерно для денежных данных, так как для покупателей, которые не совершали покупок, значение переменной равно 0.\n",
    "\n",
    "QQ-plot также подтверждает эти выводы, в нормальном распределении синяя линяя должна лежать на красной, либо с небольшим смещением от нее.\n",
    "\n",
    "Проведем тесты на нормальность распределения для конечного вывода."
   ]
  },
  {
   "cell_type": "markdown",
   "id": "ce442f69",
   "metadata": {},
   "source": [
    "# Tests"
   ]
  },
  {
   "cell_type": "markdown",
   "id": "a25e2f1b",
   "metadata": {},
   "source": [
    "## Shapiro-Wilk test"
   ]
  },
  {
   "cell_type": "markdown",
   "id": "cddb0e8c",
   "metadata": {},
   "source": [
    "### Group A"
   ]
  },
  {
   "cell_type": "code",
   "execution_count": 111,
   "id": "bdc6c73d",
   "metadata": {},
   "outputs": [
    {
     "name": "stdout",
     "output_type": "stream",
     "text": [
      "Statistic: 0.8025902180699194, p-value: 4.911895175224245e-48\n",
      "Распределение ненормальное\n"
     ]
    }
   ],
   "source": [
    "stat_a, p_a = shapiro(group_a)\n",
    "print(f\"Statistic: {stat_a}, p-value: {p_a}\")\n",
    "if p_a > 0.05:\n",
    "    print(\"Распределение нормальное\")\n",
    "else:\n",
    "    print(\"Распределение ненормальное\")"
   ]
  },
  {
   "cell_type": "markdown",
   "id": "7839d85b",
   "metadata": {},
   "source": [
    "### Group B"
   ]
  },
  {
   "cell_type": "code",
   "execution_count": 112,
   "id": "ae908642",
   "metadata": {},
   "outputs": [
    {
     "name": "stdout",
     "output_type": "stream",
     "text": [
      "Statistic: 0.7618659969345194, p-value: 4.518378128406426e-51\n",
      "Распределение ненормальное\n"
     ]
    }
   ],
   "source": [
    "stat_b, p_b = shapiro(group_b)\n",
    "print(f\"Statistic: {stat_b}, p-value: {p_b}\")\n",
    "if p_b > 0.05:\n",
    "    print(\"Распределение нормальное\")\n",
    "else:\n",
    "    print(\"Распределение ненормальное\")"
   ]
  },
  {
   "cell_type": "markdown",
   "id": "60fba71d",
   "metadata": {},
   "source": [
    "## D’Agostino and Pearson’s test"
   ]
  },
  {
   "cell_type": "markdown",
   "id": "afc6ccd4",
   "metadata": {},
   "source": [
    "### Group A "
   ]
  },
  {
   "cell_type": "code",
   "execution_count": 113,
   "id": "06425a39",
   "metadata": {},
   "outputs": [
    {
     "name": "stdout",
     "output_type": "stream",
     "text": [
      "Statistic: 446.75852906572175, p-value: 9.718920771368068e-98\n",
      "Распределение ненормальное\n"
     ]
    }
   ],
   "source": [
    "stat_a_nt, p_a_nt = normaltest(group_a)\n",
    "print(f\"Statistic: {stat_a_nt}, p-value: {p_a_nt}\")\n",
    "if p_a_nt > 0.05:\n",
    "    print(\"Распределение нормальное\")\n",
    "else:\n",
    "    print(\"Распределение ненормальное\")"
   ]
  },
  {
   "cell_type": "markdown",
   "id": "c23d519b",
   "metadata": {},
   "source": [
    "### Group B "
   ]
  },
  {
   "cell_type": "code",
   "execution_count": 114,
   "id": "5884892e",
   "metadata": {},
   "outputs": [
    {
     "name": "stdout",
     "output_type": "stream",
     "text": [
      "Statistic: 327.06354887739496, p-value: 9.529118889384164e-72\n",
      "Распределение ненормальное\n"
     ]
    }
   ],
   "source": [
    "stat_b_nt, p_b_nt = normaltest(group_b)\n",
    "print(f\"Statistic: {stat_b_nt}, p-value: {p_b_nt}\")\n",
    "if p_b_nt > 0.05:\n",
    "    print(\"Распределение нормальное\")\n",
    "else:\n",
    "    print(\"Распределение ненормальное\")"
   ]
  },
  {
   "cell_type": "markdown",
   "id": "1bd5f3fc",
   "metadata": {},
   "source": [
    "Критерии Шапиро-Уилка и Д'Агостино показали, что распределение стоимости сумм заказов является ненормальным. \n",
    "Исходя из этого, для проверки гипотез будем использовать непараметрические тесты, например, Манна-Уитни."
   ]
  },
  {
   "cell_type": "markdown",
   "id": "555a4378",
   "metadata": {},
   "source": [
    "## Mann-Whitneyu test"
   ]
  },
  {
   "cell_type": "code",
   "execution_count": 136,
   "id": "850e1bcf",
   "metadata": {},
   "outputs": [],
   "source": [
    "order_value_purchase_a = group_A_purchase.order_value\n",
    "order_value_purchase_b = group_B_purchase.order_value"
   ]
  },
  {
   "cell_type": "code",
   "execution_count": 140,
   "id": "dd9e3242",
   "metadata": {},
   "outputs": [],
   "source": [
    "stat_mw, p_value_mw = mannwhitneyu(order_value_purchase_a, order_value_purchase_b, alternative='greater')"
   ]
  },
  {
   "cell_type": "code",
   "execution_count": 150,
   "id": "7a97954c",
   "metadata": {},
   "outputs": [
    {
     "name": "stdout",
     "output_type": "stream",
     "text": [
      "U-статистика: 879087.500, p-value: 0.73031\n",
      "Нет значимых различий в среднем чеке между группами.\n"
     ]
    }
   ],
   "source": [
    "print(f\"U-статистика: {stat_mw:.3f}, p-value: {p_value_mw:.5f}\")\n",
    "if p_value_mw < 0.05:\n",
    "    print(\"Средний чек группы B значимо больше среднего чека группы А.\")\n",
    "else:\n",
    "    print(\"Нет значимых различий в среднем чеке между группами.\")"
   ]
  },
  {
   "cell_type": "markdown",
   "id": "2121bae3",
   "metadata": {},
   "source": [
    "## Z-test"
   ]
  },
  {
   "cell_type": "code",
   "execution_count": 149,
   "id": "0bc1068f",
   "metadata": {},
   "outputs": [],
   "source": [
    "purchase_a = group_A.purchase_made.sum()\n",
    "size_a = group_A.purchase_made.count()\n",
    "\n",
    "purchase_b = group_B.purchase_made.sum()\n",
    "size_b = group_B.purchase_made.count()"
   ]
  },
  {
   "cell_type": "code",
   "execution_count": 152,
   "id": "c937dfa4",
   "metadata": {},
   "outputs": [],
   "source": [
    "stat_z, p_value_z = proportions_ztest([purchase_a, purchase_b], [size_a, size_b], alternative='larger')"
   ]
  },
  {
   "cell_type": "code",
   "execution_count": 155,
   "id": "3db9effb",
   "metadata": {},
   "outputs": [
    {
     "name": "stdout",
     "output_type": "stream",
     "text": [
      "Z-статистика: 1.578, p-value: 0.05729\n",
      "Нет значимых различий в конверсии между группами.\n"
     ]
    }
   ],
   "source": [
    "print(f\"Z-статистика: {stat_z:.3f}, p-value: {p_value_z:.5f}\")\n",
    "if p_value_z < 0.05:\n",
    "    print(\"Конверсия группы B значимо выше конверсии группы А.\")\n",
    "else:\n",
    "    print(\"Нет значимых различий в конверсии между группами.\")"
   ]
  },
  {
   "cell_type": "markdown",
   "id": "9d6250fa",
   "metadata": {},
   "source": [
    "## Chi-2 test"
   ]
  },
  {
   "cell_type": "code",
   "execution_count": 156,
   "id": "2e314516",
   "metadata": {},
   "outputs": [],
   "source": [
    "frequency_table = [\n",
    "    [purchase_a, size_a - purchase_a],\n",
    "    [purchase_b, size_b - purchase_b]\n",
    "]"
   ]
  },
  {
   "cell_type": "code",
   "execution_count": 158,
   "id": "c210c76b",
   "metadata": {},
   "outputs": [],
   "source": [
    "chi2, p_value_chi2, dof, expected = chi2_contingency(frequency_table)"
   ]
  },
  {
   "cell_type": "code",
   "execution_count": 159,
   "id": "3e88b0cd",
   "metadata": {},
   "outputs": [
    {
     "name": "stdout",
     "output_type": "stream",
     "text": [
      "Хи-квадрат: 2.401, p-value: 0.12124\n",
      "Нет значимых различий в конверсии между группами.\n"
     ]
    }
   ],
   "source": [
    "print(f\"Хи-квадрат: {chi2:.3f}, p-value: {p_value_chi2:.5f}\")\n",
    "if p_value_chi2 < 0.05:\n",
    "    print(\"Конверсия группы B значимо выше конверсии группы А.\")\n",
    "else:\n",
    "    print(\"Нет значимых различий в конверсии между группами.\")"
   ]
  },
  {
   "cell_type": "markdown",
   "id": "9e961c3a",
   "metadata": {},
   "source": [
    "В результате проведенных статистических тестов было выявлено, что изменение кнопки заказа с красной (группа А) на синюю (группы В) не привело к статистически значимым изменениям в стоимости среднего чека и конверсии.\n",
    "\n",
    "Рекомендуется продолжить сбор данных и провести дополнительные тесты для подтверждения результатов."
   ]
  }
 ],
 "metadata": {
  "kernelspec": {
   "display_name": "Python 3 (ipykernel)",
   "language": "python",
   "name": "python3"
  },
  "language_info": {
   "codemirror_mode": {
    "name": "ipython",
    "version": 3
   },
   "file_extension": ".py",
   "mimetype": "text/x-python",
   "name": "python",
   "nbconvert_exporter": "python",
   "pygments_lexer": "ipython3",
   "version": "3.11.8"
  }
 },
 "nbformat": 4,
 "nbformat_minor": 5
}
